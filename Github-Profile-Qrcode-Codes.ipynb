{
  "nbformat": 4,
  "nbformat_minor": 0,
  "metadata": {
    "colab": {
      "name": "Untitled1.ipynb",
      "provenance": [],
      "authorship_tag": "ABX9TyPhqu3bzX7w5Sxj1HcM1wvv",
      "include_colab_link": true
    },
    "kernelspec": {
      "name": "python3",
      "display_name": "Python 3"
    },
    "language_info": {
      "name": "python"
    }
  },
  "cells": [
    {
      "cell_type": "markdown",
      "metadata": {
        "id": "view-in-github",
        "colab_type": "text"
      },
      "source": [
        "<a href=\"https://colab.research.google.com/github/dreaDlrd/Qr-codes/blob/main/Github-Profile-Qrcode-Codes.ipynb\" target=\"_parent\"><img src=\"https://colab.research.google.com/assets/colab-badge.svg\" alt=\"Open In Colab\"/></a>"
      ]
    },
    {
      "cell_type": "code",
      "execution_count": 1,
      "metadata": {
        "colab": {
          "base_uri": "https://localhost:8080/"
        },
        "id": "WpNfe7x7uC98",
        "outputId": "dd475a59-8628-4a8d-e7d5-88c547a42993"
      },
      "outputs": [
        {
          "output_type": "stream",
          "name": "stdout",
          "text": [
            "Collecting qrcode\n",
            "  Downloading qrcode-7.3.1.tar.gz (43 kB)\n",
            "\u001b[?25l\r\u001b[K     |███████▌                        | 10 kB 28.9 MB/s eta 0:00:01\r\u001b[K     |███████████████                 | 20 kB 30.2 MB/s eta 0:00:01\r\u001b[K     |██████████████████████▋         | 30 kB 14.2 MB/s eta 0:00:01\r\u001b[K     |██████████████████████████████▏ | 40 kB 11.0 MB/s eta 0:00:01\r\u001b[K     |████████████████████████████████| 43 kB 1.4 MB/s \n",
            "\u001b[?25hRequirement already satisfied: pillow in /usr/local/lib/python3.7/dist-packages (7.1.2)\n",
            "Building wheels for collected packages: qrcode\n",
            "  Building wheel for qrcode (setup.py) ... \u001b[?25l\u001b[?25hdone\n",
            "  Created wheel for qrcode: filename=qrcode-7.3.1-py3-none-any.whl size=40402 sha256=129328f7b9a561c1bb50956f178d5f8d7153460ba66902ed25b59639509491a3\n",
            "  Stored in directory: /root/.cache/pip/wheels/93/d7/39/a4111be2cfb8e679938aa671a37888b6afb1f9e7d748e94492\n",
            "Successfully built qrcode\n",
            "Installing collected packages: qrcode\n",
            "Successfully installed qrcode-7.3.1\n"
          ]
        }
      ],
      "source": [
        "!pip install qrcode pillow\n"
      ]
    },
    {
      "cell_type": "code",
      "source": [
        "import qrcode\n",
        "code = qrcode.make('https://github.com/dreaDlrd')\n",
        "code.save('githubprofile.png')"
      ],
      "metadata": {
        "id": "HvWNSEcPuM1M"
      },
      "execution_count": 11,
      "outputs": []
    }
  ]
}